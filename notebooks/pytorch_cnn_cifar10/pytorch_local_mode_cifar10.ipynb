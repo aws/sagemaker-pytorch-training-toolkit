{
 "cells": [
  {
   "cell_type": "markdown",
   "metadata": {},
   "source": [
    "# PyTorch Cifar10 local training  \n",
    "\n",
    "## Pre-requisites\n",
    "\n",
    "This notebook shows how to use the SageMaker Python SDK to run your code in a local container before deploying to SageMaker's managed training or hosting environments.  This can speed up iterative testing and debugging while using the same familiar Python SDK interface.  Just change your estimator's `train_instance_type` to `local` (or `local_gpu` if you're using an ml.p2 or ml.p3 notebook instance).\n",
    "\n",
    "In order to use this feature you'll need to install docker-compose (and nvidia-docker if training with a GPU).\n",
    "\n",
    "**Note, you can only run a single local notebook at one time.**"
   ]
  },
  {
   "cell_type": "code",
   "execution_count": 1,
   "metadata": {},
   "outputs": [
    {
     "name": "stdout",
     "output_type": "stream",
     "text": [
      "nvidia-docker2 already installed. We are good to go!\n",
      "SageMaker instance route table setup is ok. We are good to go.\n",
      "SageMaker instance routing for Docker is ok. We are good to go!\n"
     ]
    }
   ],
   "source": [
    "!/bin/bash ./setup.sh"
   ]
  },
  {
   "cell_type": "markdown",
   "metadata": {},
   "source": [
    "## Overview\n",
    "\n",
    "The **SageMaker Python SDK** helps you deploy your models for training and hosting in optimized, productions ready containers in SageMaker. The SageMaker Python SDK is easy to use, modular, extensible and compatible with TensorFlow, MXNet, PyTorch and Chainer. This tutorial focuses on how to create a convolutional neural network model to train the [Cifar10 dataset](https://www.cs.toronto.edu/~kriz/cifar.html) using **PyTorch in local mode**.\n",
    "\n",
    "### Set up the environment\n",
    "\n",
    "This notebook was created and tested on a single ml.p2.xlarge notebook instance.\n",
    "\n",
    "Let's start by specifying:\n",
    "\n",
    "- The S3 bucket and prefix that you want to use for training and model data. This should be within the same region as the Notebook Instance, training, and hosting.\n",
    "- The IAM role arn used to give training and hosting access to your data. See the documentation for how to create these. Note, if more than one role is required for notebook instances, training, and/or hosting, please replace the sagemaker.get_execution_role() with appropriate full IAM role arn string(s)."
   ]
  },
  {
   "cell_type": "code",
   "execution_count": 2,
   "metadata": {},
   "outputs": [],
   "source": [
    "bucket = '<your_s3_bucket_name_here>'\n",
    "prefix = 'sagemaker/DEMO-pytorch-cnn-cifar10'\n",
    "\n",
    "import sagemaker\n",
    "\n",
    "role = sagemaker.get_execution_role()"
   ]
  },
  {
   "cell_type": "code",
   "execution_count": 3,
   "metadata": {},
   "outputs": [
    {
     "name": "stdout",
     "output_type": "stream",
     "text": [
      "Instance type = local_gpu\n"
     ]
    }
   ],
   "source": [
    "import os\n",
    "import subprocess\n",
    "\n",
    "sagemaker_session = sagemaker.Session()\n",
    "\n",
    "instance_type = 'local'\n",
    "\n",
    "if subprocess.call('nvidia-smi') == 0:\n",
    "    ## Set type to GPU if one is present\n",
    "    instance_type = 'local_gpu'\n",
    "    \n",
    "print(\"Instance type = \" + instance_type)"
   ]
  },
  {
   "cell_type": "markdown",
   "metadata": {},
   "source": [
    "### Download the Cifar10 dataset"
   ]
  },
  {
   "cell_type": "code",
   "execution_count": 4,
   "metadata": {},
   "outputs": [
    {
     "name": "stdout",
     "output_type": "stream",
     "text": [
      "Files already downloaded and verified\n",
      "Files already downloaded and verified\n"
     ]
    }
   ],
   "source": [
    "from utils_cifar import get_train_data_loader, get_test_data_loader, imshow, classes\n",
    "\n",
    "trainloader = get_train_data_loader()\n",
    "testloader = get_test_data_loader()"
   ]
  },
  {
   "cell_type": "markdown",
   "metadata": {},
   "source": [
    "### Data Preview"
   ]
  },
  {
   "cell_type": "code",
   "execution_count": 5,
   "metadata": {},
   "outputs": [
    {
     "name": "stdout",
     "output_type": "stream",
     "text": [
      "    truck     horse      ship      deer\n"
     ]
    },
    {
     "data": {
      "image/png": "[encoded data removed]",
      "text/plain": [
       "<matplotlib.figure.Figure at 0x7fd4b2572eb8>"
      ]
     },
     "metadata": {},
     "output_type": "display_data"
    }
   ],
   "source": [
    "import numpy as np\n",
    "import torchvision, torch\n",
    "\n",
    "# get some random training images\n",
    "dataiter = iter(trainloader)\n",
    "images, labels = dataiter.next()\n",
    "\n",
    "# show images\n",
    "imshow(torchvision.utils.make_grid(images))\n",
    "\n",
    "# print labels\n",
    "print(' '.join('%9s' % classes[labels[j]] for j in range(4)))"
   ]
  },
  {
   "cell_type": "markdown",
   "metadata": {},
   "source": [
    "### Upload the data\n",
    "We use the ```sagemaker.Session.upload_data``` function to upload our datasets to an S3 location. The return value inputs identifies the location -- we will use this later when we start the training job."
   ]
  },
  {
   "cell_type": "code",
   "execution_count": 6,
   "metadata": {},
   "outputs": [],
   "source": [
    "inputs = sagemaker_session.upload_data(path='data', bucket=bucket, key_prefix='data/cifar10')"
   ]
  },
  {
   "cell_type": "markdown",
   "metadata": {},
   "source": [
    "# Construct a script for training \n",
    "Here is the full code for the network model:"
   ]
  },
  {
   "cell_type": "code",
   "execution_count": null,
   "metadata": {
    "scrolled": false
   },
   "outputs": [],
   "source": [
    "!pygmentize source_dir/cifar10.py"
   ]
  },
  {
   "cell_type": "markdown",
   "metadata": {},
   "source": [
    "## Script Functions\n",
    "\n",
    "SageMaker invokes the main function defined within your training script for training. When deploying your trained model to an endpoint, the model_fn() is called to determine how to load your trained model. The model_fn() along with a few other functions list below are called to enable predictions on SageMaker.\n",
    "\n",
    "### [Predicting Functions](https://github.com/aws/sagemaker-pytorch-containers/blob/master/src/sagemaker_pytorch_container/serving.py)\n",
    "* model_fn(model_dir) - loads your model.\n",
    "* input_fn(serialized_input_data, content_type) - deserializes predictions to predict_fn.\n",
    "* output_fn(prediction_output, accept) - serializes predictions from predict_fn.\n",
    "* predict_fn(input_data, model) - calls a model on data deserialized in input_fn.\n",
    "\n",
    "The model_fn() is the only function that doesn't have a default implementation and is required by the user for using PyTorch on SageMaker. "
   ]
  },
  {
   "cell_type": "markdown",
   "metadata": {},
   "source": [
    "## Create a training job using the sagemaker.PyTorch estimator\n",
    "\n",
    "The `PyTorch` class allows us to run our training function on SageMaker. We need to configure it with our training script, an IAM role, the number of training instances, and the training instance type. For local training with GPU, we could set this to \"local_gpu\".  In this case, `instance_type` was set above based on your whether you're running a GPU instance.\n",
    "\n",
    "After we've constructed our `PyTorch` object, we fit it using the data we uploaded to S3. Even though we're in local mode, using S3 as our data source makes sense because it maintains consistency with how SageMaker's distributed, managed training ingests data."
   ]
  },
  {
   "cell_type": "code",
   "execution_count": 7,
   "metadata": {},
   "outputs": [
    {
     "name": "stderr",
     "output_type": "stream",
     "text": [
      "INFO:sagemaker:Creating training-job with name: sagemaker-pytorch-2018-05-09-00-49-57-522\n"
     ]
    },
    {
     "name": "stdout",
     "output_type": "stream",
     "text": [
      "Attaching to tmpxae1mv8b_algo-1-JMPHK_1\n",
      "\u001b[36malgo-1-JMPHK_1  |\u001b[0m 2018-05-09 00:50:08,703 INFO - root - running container entrypoint\n",
      "\u001b[36malgo-1-JMPHK_1  |\u001b[0m 2018-05-09 00:50:08,703 INFO - root - starting train task\n",
      "\u001b[36malgo-1-JMPHK_1  |\u001b[0m 2018-05-09 00:50:08,714 INFO - container_support.app - started training: {'train_fn': <function train at 0x7f80c917f510>}\n",
      "\u001b[36malgo-1-JMPHK_1  |\u001b[0m Downloading s3://sagemaker-us-west-2-633083500428/sagemaker-pytorch-2018-05-09-00-49-57-522/source/sourcedir.tar.gz to /tmp/script.tar.gz\n",
      "\u001b[36malgo-1-JMPHK_1  |\u001b[0m 2018-05-09 00:50:08,728 INFO - botocore.vendored.requests.packages.urllib3.connectionpool - Starting new HTTP connection (1): 169.254.169.254\n",
      "\u001b[36malgo-1-JMPHK_1  |\u001b[0m 2018-05-09 00:50:08,732 INFO - botocore.vendored.requests.packages.urllib3.connectionpool - Starting new HTTP connection (1): 169.254.169.254\n",
      "\u001b[36malgo-1-JMPHK_1  |\u001b[0m 2018-05-09 00:50:08,769 INFO - botocore.vendored.requests.packages.urllib3.connectionpool - Starting new HTTPS connection (1): sagemaker-us-west-2-633083500428.s3.amazonaws.com\n",
      "\u001b[36malgo-1-JMPHK_1  |\u001b[0m 2018-05-09 00:50:08,819 INFO - botocore.vendored.requests.packages.urllib3.connectionpool - Starting new HTTPS connection (2): sagemaker-us-west-2-633083500428.s3.amazonaws.com\n",
      "\u001b[36malgo-1-JMPHK_1  |\u001b[0m 2018-05-09 00:50:08,837 INFO - botocore.vendored.requests.packages.urllib3.connectionpool - Starting new HTTPS connection (1): sagemaker-us-west-2-633083500428.s3.us-west-2.amazonaws.com\n",
      "\u001b[36malgo-1-JMPHK_1  |\u001b[0m 2018-05-09 00:50:08,873 INFO - botocore.vendored.requests.packages.urllib3.connectionpool - Starting new HTTPS connection (2): sagemaker-us-west-2-633083500428.s3.us-west-2.amazonaws.com\n",
      "\u001b[36malgo-1-JMPHK_1  |\u001b[0m 2018-05-09 00:50:08,967 INFO - pytorch_container.training - Block until all host DNS lookups succeed.\n",
      "\u001b[36malgo-1-JMPHK_1  |\u001b[0m 2018-05-09 00:50:08,968 INFO - cifar10 - Loading HyperParameters\n",
      "\u001b[36malgo-1-JMPHK_1  |\u001b[0m 2018-05-09 00:50:08,968 INFO - cifar10 - workers: 2, epochs: 2, batch_size: 4 lr: 0.001, momentum: 0.9, backend: gloo\n",
      "\u001b[36malgo-1-JMPHK_1  |\u001b[0m 2018-05-09 00:50:08,971 INFO - cifar10 - Device Type: cuda\n",
      "\u001b[36malgo-1-JMPHK_1  |\u001b[0m 2018-05-09 00:50:08,971 INFO - cifar10 - Loading Cifar10 dataset\n",
      "\u001b[36malgo-1-JMPHK_1  |\u001b[0m 2018-05-09 00:50:10,046 INFO - cifar10 - Model loaded\n",
      "\u001b[36malgo-1-JMPHK_1  |\u001b[0m [1,  2000] loss: 2.217\n",
      "\u001b[36malgo-1-JMPHK_1  |\u001b[0m [1,  4000] loss: 1.869\n",
      "\u001b[36malgo-1-JMPHK_1  |\u001b[0m [1,  6000] loss: 1.696\n",
      "\u001b[36malgo-1-JMPHK_1  |\u001b[0m [1,  8000] loss: 1.600\n",
      "\u001b[36malgo-1-JMPHK_1  |\u001b[0m [1, 10000] loss: 1.522\n",
      "\u001b[36malgo-1-JMPHK_1  |\u001b[0m [1, 12000] loss: 1.466\n",
      "\u001b[36malgo-1-JMPHK_1  |\u001b[0m [2,  2000] loss: 1.392\n",
      "\u001b[36malgo-1-JMPHK_1  |\u001b[0m [2,  4000] loss: 1.387\n",
      "\u001b[36malgo-1-JMPHK_1  |\u001b[0m [2,  6000] loss: 1.336\n",
      "\u001b[36malgo-1-JMPHK_1  |\u001b[0m [2,  8000] loss: 1.310\n",
      "\u001b[36malgo-1-JMPHK_1  |\u001b[0m [2, 10000] loss: 1.297\n",
      "\u001b[36malgo-1-JMPHK_1  |\u001b[0m [2, 12000] loss: 1.263\n",
      "\u001b[36malgo-1-JMPHK_1  |\u001b[0m Finished Training\n",
      "\u001b[36malgo-1-JMPHK_1  |\u001b[0m 2018-05-09 00:51:28,641 INFO - pytorch_container.training - Saving the model using default save function.\n",
      "\u001b[36mtmpxae1mv8b_algo-1-JMPHK_1 exited with code 0\n",
      "\u001b[0mAborting on container exit...\n",
      "===== Job Complete =====\n"
     ]
    }
   ],
   "source": [
    "from sagemaker.pytorch import PyTorch\n",
    "\n",
    "cifar10_estimator = PyTorch(entry_point=\"source_dir/cifar10.py\",\n",
    "                    role=role,\n",
    "                    train_instance_count=1,\n",
    "                    train_instance_type=instance_type)\n",
    "\n",
    "cifar10_estimator.fit(inputs)"
   ]
  },
  {
   "cell_type": "markdown",
   "metadata": {},
   "source": [
    "# Deploy the trained model to prepare for predictions\n",
    "\n",
    "The deploy() method creates an endpoint (in this case locally) which serves prediction requests in real-time."
   ]
  },
  {
   "cell_type": "code",
   "execution_count": 8,
   "metadata": {},
   "outputs": [
    {
     "name": "stderr",
     "output_type": "stream",
     "text": [
      "INFO:sagemaker:Creating model with name: sagemaker-pytorch-2018-05-09-00-49-57-522\n",
      "INFO:sagemaker:Creating endpoint with name sagemaker-pytorch-2018-05-09-00-49-57-522\n",
      "ERROR:sagemaker.local.image:['docker-compose', '-f', '/tmp/tmp_fo6onhd/docker-compose.yaml', 'up', '--build', '--abort-on-container-exit']\n"
     ]
    },
    {
     "name": "stdout",
     "output_type": "stream",
     "text": [
      "['docker-compose', '-f', '/tmp/tmp_fo6onhd/docker-compose.yaml', 'up', '--build', '--abort-on-container-exit']\n",
      "!"
     ]
    }
   ],
   "source": [
    "from sagemaker.pytorch import PyTorchModel\n",
    "\n",
    "cifar10_predictor = cifar10_estimator.deploy(initial_instance_count=1, instance_type=instance_type)"
   ]
  },
  {
   "cell_type": "markdown",
   "metadata": {},
   "source": [
    "# Invoking the endpoint"
   ]
  },
  {
   "cell_type": "code",
   "execution_count": 9,
   "metadata": {},
   "outputs": [
    {
     "name": "stdout",
     "output_type": "stream",
     "text": [
      "GroundTruth:   cat ship ship plane\n",
      "Predicted:   cat ship ship ship\n"
     ]
    },
    {
     "data": {
      "image/png": "[encoded data removed]",
      "text/plain": [
       "<matplotlib.figure.Figure at 0x7fd4b28f6358>"
      ]
     },
     "metadata": {},
     "output_type": "display_data"
    }
   ],
   "source": [
    "# get some test images\n",
    "dataiter = iter(testloader)\n",
    "images, labels = dataiter.next()\n",
    "\n",
    "# print images\n",
    "imshow(torchvision.utils.make_grid(images))\n",
    "print('GroundTruth: ', ' '.join('%4s' % classes[labels[j]] for j in range(4)))\n",
    "\n",
    "outputs = cifar10_predictor.predict(images.numpy())\n",
    "\n",
    "_, predicted = torch.max(torch.from_numpy(np.array(outputs)), 1)\n",
    "\n",
    "print('Predicted: ', ' '.join('%4s' % classes[predicted[j]]\n",
    "                              for j in range(4)))"
   ]
  },
  {
   "cell_type": "markdown",
   "metadata": {},
   "source": [
    "# Clean-up\n",
    "\n",
    "Deleting the local endpoint when you're finished is important since you can only run one local endpoint at a time."
   ]
  },
  {
   "cell_type": "code",
   "execution_count": 10,
   "metadata": {},
   "outputs": [
    {
     "name": "stderr",
     "output_type": "stream",
     "text": [
      "INFO:sagemaker:Deleting endpoint with name: sagemaker-pytorch-2018-05-09-00-49-57-522\n"
     ]
    }
   ],
   "source": [
    "cifar10_estimator.delete_endpoint()"
   ]
  }
 ],
 "metadata": {
  "kernelspec": {
   "display_name": "conda_python3",
   "language": "python",
   "name": "conda_python3"
  },
  "language_info": {
   "codemirror_mode": {
    "name": "ipython",
    "version": 3
   },
   "file_extension": ".py",
   "mimetype": "text/x-python",
   "name": "python",
   "nbconvert_exporter": "python",
   "pygments_lexer": "ipython3",
   "version": "3.6.4"
  },
  "notice": "Copyright 2018 Amazon.com, Inc. or its affiliates. All Rights Reserved.  Licensed under the Apache License, Version 2.0 (the \"License\"). You may not use this file except in compliance with the License. A copy of the License is located at http://aws.amazon.com/apache2.0/ or in the \"license\" file accompanying this file. This file is distributed on an \"AS IS\" BASIS, WITHOUT WARRANTIES OR CONDITIONS OF ANY KIND, either express or implied. See the License for the specific language governing permissions and limitations under the License."
 },
 "nbformat": 4,
 "nbformat_minor": 2
}
